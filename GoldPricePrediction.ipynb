{
 "cells": [
  {
   "cell_type": "code",
   "execution_count": 1,
   "id": "09b370d7-5643-440a-8c1b-0d0401642b11",
   "metadata": {},
   "outputs": [],
   "source": [
    "import numpy as np\n",
    "import pandas as pd\n",
    "import matplotlib.pyplot as plt\n",
    "import seaborn as sns\n",
    "from sklearn.model_selection import train_test_split\n",
    "from sklearn.ensemble import RandomForestRegressor\n",
    "from sklearn import metrics"
   ]
  },
  {
   "cell_type": "markdown",
   "id": "2e441942-eff1-4552-a9c4-ebee2c86dd2e",
   "metadata": {},
   "source": [
    "Data Collection and Processing"
   ]
  },
  {
   "cell_type": "code",
   "execution_count": 4,
   "id": "56bea0fe-c4a2-4e42-80d1-40dc7cf1310a",
   "metadata": {},
   "outputs": [],
   "source": [
    "#loading the csv data to a pandas DataFrame\n",
    "gold_data = pd.read_csv('gld_price_data.csv')"
   ]
  },
  {
   "cell_type": "code",
   "execution_count": 5,
   "id": "a862f855-6a28-4a75-8aab-be9ee99c2187",
   "metadata": {},
   "outputs": [
    {
     "data": {
      "text/html": [
       "<div>\n",
       "<style scoped>\n",
       "    .dataframe tbody tr th:only-of-type {\n",
       "        vertical-align: middle;\n",
       "    }\n",
       "\n",
       "    .dataframe tbody tr th {\n",
       "        vertical-align: top;\n",
       "    }\n",
       "\n",
       "    .dataframe thead th {\n",
       "        text-align: right;\n",
       "    }\n",
       "</style>\n",
       "<table border=\"1\" class=\"dataframe\">\n",
       "  <thead>\n",
       "    <tr style=\"text-align: right;\">\n",
       "      <th></th>\n",
       "      <th>Date</th>\n",
       "      <th>SPX</th>\n",
       "      <th>GLD</th>\n",
       "      <th>USO</th>\n",
       "      <th>SLV</th>\n",
       "      <th>EUR/USD</th>\n",
       "    </tr>\n",
       "  </thead>\n",
       "  <tbody>\n",
       "    <tr>\n",
       "      <th>0</th>\n",
       "      <td>1/2/2008</td>\n",
       "      <td>1447.160034</td>\n",
       "      <td>84.860001</td>\n",
       "      <td>78.470001</td>\n",
       "      <td>15.180</td>\n",
       "      <td>1.471692</td>\n",
       "    </tr>\n",
       "    <tr>\n",
       "      <th>1</th>\n",
       "      <td>1/3/2008</td>\n",
       "      <td>1447.160034</td>\n",
       "      <td>85.570000</td>\n",
       "      <td>78.370003</td>\n",
       "      <td>15.285</td>\n",
       "      <td>1.474491</td>\n",
       "    </tr>\n",
       "    <tr>\n",
       "      <th>2</th>\n",
       "      <td>1/4/2008</td>\n",
       "      <td>1411.630005</td>\n",
       "      <td>85.129997</td>\n",
       "      <td>77.309998</td>\n",
       "      <td>15.167</td>\n",
       "      <td>1.475492</td>\n",
       "    </tr>\n",
       "    <tr>\n",
       "      <th>3</th>\n",
       "      <td>1/7/2008</td>\n",
       "      <td>1416.180054</td>\n",
       "      <td>84.769997</td>\n",
       "      <td>75.500000</td>\n",
       "      <td>15.053</td>\n",
       "      <td>1.468299</td>\n",
       "    </tr>\n",
       "    <tr>\n",
       "      <th>4</th>\n",
       "      <td>1/8/2008</td>\n",
       "      <td>1390.189941</td>\n",
       "      <td>86.779999</td>\n",
       "      <td>76.059998</td>\n",
       "      <td>15.590</td>\n",
       "      <td>1.557099</td>\n",
       "    </tr>\n",
       "  </tbody>\n",
       "</table>\n",
       "</div>"
      ],
      "text/plain": [
       "       Date          SPX        GLD        USO     SLV   EUR/USD\n",
       "0  1/2/2008  1447.160034  84.860001  78.470001  15.180  1.471692\n",
       "1  1/3/2008  1447.160034  85.570000  78.370003  15.285  1.474491\n",
       "2  1/4/2008  1411.630005  85.129997  77.309998  15.167  1.475492\n",
       "3  1/7/2008  1416.180054  84.769997  75.500000  15.053  1.468299\n",
       "4  1/8/2008  1390.189941  86.779999  76.059998  15.590  1.557099"
      ]
     },
     "execution_count": 5,
     "metadata": {},
     "output_type": "execute_result"
    }
   ],
   "source": [
    "# print first 5 rows in the dataframe\n",
    "gold_data.head()"
   ]
  },
  {
   "cell_type": "code",
   "execution_count": 6,
   "id": "de6ea759-ff9d-42dc-a14b-3bf8aee1b0bb",
   "metadata": {},
   "outputs": [
    {
     "data": {
      "text/html": [
       "<div>\n",
       "<style scoped>\n",
       "    .dataframe tbody tr th:only-of-type {\n",
       "        vertical-align: middle;\n",
       "    }\n",
       "\n",
       "    .dataframe tbody tr th {\n",
       "        vertical-align: top;\n",
       "    }\n",
       "\n",
       "    .dataframe thead th {\n",
       "        text-align: right;\n",
       "    }\n",
       "</style>\n",
       "<table border=\"1\" class=\"dataframe\">\n",
       "  <thead>\n",
       "    <tr style=\"text-align: right;\">\n",
       "      <th></th>\n",
       "      <th>Date</th>\n",
       "      <th>SPX</th>\n",
       "      <th>GLD</th>\n",
       "      <th>USO</th>\n",
       "      <th>SLV</th>\n",
       "      <th>EUR/USD</th>\n",
       "    </tr>\n",
       "  </thead>\n",
       "  <tbody>\n",
       "    <tr>\n",
       "      <th>2285</th>\n",
       "      <td>5/8/2018</td>\n",
       "      <td>2671.919922</td>\n",
       "      <td>124.589996</td>\n",
       "      <td>14.0600</td>\n",
       "      <td>15.5100</td>\n",
       "      <td>1.186789</td>\n",
       "    </tr>\n",
       "    <tr>\n",
       "      <th>2286</th>\n",
       "      <td>5/9/2018</td>\n",
       "      <td>2697.790039</td>\n",
       "      <td>124.330002</td>\n",
       "      <td>14.3700</td>\n",
       "      <td>15.5300</td>\n",
       "      <td>1.184722</td>\n",
       "    </tr>\n",
       "    <tr>\n",
       "      <th>2287</th>\n",
       "      <td>5/10/2018</td>\n",
       "      <td>2723.070068</td>\n",
       "      <td>125.180000</td>\n",
       "      <td>14.4100</td>\n",
       "      <td>15.7400</td>\n",
       "      <td>1.191753</td>\n",
       "    </tr>\n",
       "    <tr>\n",
       "      <th>2288</th>\n",
       "      <td>5/14/2018</td>\n",
       "      <td>2730.129883</td>\n",
       "      <td>124.489998</td>\n",
       "      <td>14.3800</td>\n",
       "      <td>15.5600</td>\n",
       "      <td>1.193118</td>\n",
       "    </tr>\n",
       "    <tr>\n",
       "      <th>2289</th>\n",
       "      <td>5/16/2018</td>\n",
       "      <td>2725.780029</td>\n",
       "      <td>122.543800</td>\n",
       "      <td>14.4058</td>\n",
       "      <td>15.4542</td>\n",
       "      <td>1.182033</td>\n",
       "    </tr>\n",
       "  </tbody>\n",
       "</table>\n",
       "</div>"
      ],
      "text/plain": [
       "           Date          SPX         GLD      USO      SLV   EUR/USD\n",
       "2285   5/8/2018  2671.919922  124.589996  14.0600  15.5100  1.186789\n",
       "2286   5/9/2018  2697.790039  124.330002  14.3700  15.5300  1.184722\n",
       "2287  5/10/2018  2723.070068  125.180000  14.4100  15.7400  1.191753\n",
       "2288  5/14/2018  2730.129883  124.489998  14.3800  15.5600  1.193118\n",
       "2289  5/16/2018  2725.780029  122.543800  14.4058  15.4542  1.182033"
      ]
     },
     "execution_count": 6,
     "metadata": {},
     "output_type": "execute_result"
    }
   ],
   "source": [
    "# print the last 5 rows of the dataframe\n",
    "gold_data.tail()"
   ]
  },
  {
   "cell_type": "code",
   "execution_count": 9,
   "id": "fc2216ba-b65a-4f0b-b3d7-5c91410ead00",
   "metadata": {},
   "outputs": [
    {
     "data": {
      "text/plain": [
       "(2290, 6)"
      ]
     },
     "execution_count": 9,
     "metadata": {},
     "output_type": "execute_result"
    }
   ],
   "source": [
    "# number of rows and columns\n",
    "gold_data.shape"
   ]
  },
  {
   "cell_type": "code",
   "execution_count": 10,
   "id": "0ff79662-2e6b-4e86-b883-01ad49ab91e4",
   "metadata": {},
   "outputs": [
    {
     "name": "stdout",
     "output_type": "stream",
     "text": [
      "<class 'pandas.core.frame.DataFrame'>\n",
      "RangeIndex: 2290 entries, 0 to 2289\n",
      "Data columns (total 6 columns):\n",
      " #   Column   Non-Null Count  Dtype  \n",
      "---  ------   --------------  -----  \n",
      " 0   Date     2290 non-null   object \n",
      " 1   SPX      2290 non-null   float64\n",
      " 2   GLD      2290 non-null   float64\n",
      " 3   USO      2290 non-null   float64\n",
      " 4   SLV      2290 non-null   float64\n",
      " 5   EUR/USD  2290 non-null   float64\n",
      "dtypes: float64(5), object(1)\n",
      "memory usage: 107.5+ KB\n"
     ]
    }
   ],
   "source": [
    "# information about the data :\n",
    "gold_data.info()"
   ]
  },
  {
   "cell_type": "code",
   "execution_count": 13,
   "id": "caa5420f-1625-4403-87a1-722bdd28246c",
   "metadata": {},
   "outputs": [
    {
     "data": {
      "text/plain": [
       "Date       0\n",
       "SPX        0\n",
       "GLD        0\n",
       "USO        0\n",
       "SLV        0\n",
       "EUR/USD    0\n",
       "dtype: int64"
      ]
     },
     "execution_count": 13,
     "metadata": {},
     "output_type": "execute_result"
    }
   ],
   "source": [
    "# number of missing values\n",
    "gold_data.isnull().sum()"
   ]
  },
  {
   "cell_type": "code",
   "execution_count": 14,
   "id": "541af918-0165-4e69-b28b-8a959a848453",
   "metadata": {},
   "outputs": [
    {
     "data": {
      "text/html": [
       "<div>\n",
       "<style scoped>\n",
       "    .dataframe tbody tr th:only-of-type {\n",
       "        vertical-align: middle;\n",
       "    }\n",
       "\n",
       "    .dataframe tbody tr th {\n",
       "        vertical-align: top;\n",
       "    }\n",
       "\n",
       "    .dataframe thead th {\n",
       "        text-align: right;\n",
       "    }\n",
       "</style>\n",
       "<table border=\"1\" class=\"dataframe\">\n",
       "  <thead>\n",
       "    <tr style=\"text-align: right;\">\n",
       "      <th></th>\n",
       "      <th>SPX</th>\n",
       "      <th>GLD</th>\n",
       "      <th>USO</th>\n",
       "      <th>SLV</th>\n",
       "      <th>EUR/USD</th>\n",
       "    </tr>\n",
       "  </thead>\n",
       "  <tbody>\n",
       "    <tr>\n",
       "      <th>count</th>\n",
       "      <td>2290.000000</td>\n",
       "      <td>2290.000000</td>\n",
       "      <td>2290.000000</td>\n",
       "      <td>2290.000000</td>\n",
       "      <td>2290.000000</td>\n",
       "    </tr>\n",
       "    <tr>\n",
       "      <th>mean</th>\n",
       "      <td>1654.315776</td>\n",
       "      <td>122.732875</td>\n",
       "      <td>31.842221</td>\n",
       "      <td>20.084997</td>\n",
       "      <td>1.283653</td>\n",
       "    </tr>\n",
       "    <tr>\n",
       "      <th>std</th>\n",
       "      <td>519.111540</td>\n",
       "      <td>23.283346</td>\n",
       "      <td>19.523517</td>\n",
       "      <td>7.092566</td>\n",
       "      <td>0.131547</td>\n",
       "    </tr>\n",
       "    <tr>\n",
       "      <th>min</th>\n",
       "      <td>676.530029</td>\n",
       "      <td>70.000000</td>\n",
       "      <td>7.960000</td>\n",
       "      <td>8.850000</td>\n",
       "      <td>1.039047</td>\n",
       "    </tr>\n",
       "    <tr>\n",
       "      <th>25%</th>\n",
       "      <td>1239.874969</td>\n",
       "      <td>109.725000</td>\n",
       "      <td>14.380000</td>\n",
       "      <td>15.570000</td>\n",
       "      <td>1.171313</td>\n",
       "    </tr>\n",
       "    <tr>\n",
       "      <th>50%</th>\n",
       "      <td>1551.434998</td>\n",
       "      <td>120.580002</td>\n",
       "      <td>33.869999</td>\n",
       "      <td>17.268500</td>\n",
       "      <td>1.303297</td>\n",
       "    </tr>\n",
       "    <tr>\n",
       "      <th>75%</th>\n",
       "      <td>2073.010070</td>\n",
       "      <td>132.840004</td>\n",
       "      <td>37.827501</td>\n",
       "      <td>22.882500</td>\n",
       "      <td>1.369971</td>\n",
       "    </tr>\n",
       "    <tr>\n",
       "      <th>max</th>\n",
       "      <td>2872.870117</td>\n",
       "      <td>184.589996</td>\n",
       "      <td>117.480003</td>\n",
       "      <td>47.259998</td>\n",
       "      <td>1.598798</td>\n",
       "    </tr>\n",
       "  </tbody>\n",
       "</table>\n",
       "</div>"
      ],
      "text/plain": [
       "               SPX          GLD          USO          SLV      EUR/USD\n",
       "count  2290.000000  2290.000000  2290.000000  2290.000000  2290.000000\n",
       "mean   1654.315776   122.732875    31.842221    20.084997     1.283653\n",
       "std     519.111540    23.283346    19.523517     7.092566     0.131547\n",
       "min     676.530029    70.000000     7.960000     8.850000     1.039047\n",
       "25%    1239.874969   109.725000    14.380000    15.570000     1.171313\n",
       "50%    1551.434998   120.580002    33.869999    17.268500     1.303297\n",
       "75%    2073.010070   132.840004    37.827501    22.882500     1.369971\n",
       "max    2872.870117   184.589996   117.480003    47.259998     1.598798"
      ]
     },
     "execution_count": 14,
     "metadata": {},
     "output_type": "execute_result"
    }
   ],
   "source": [
    "# statistical measures of the data\n",
    "gold_data.describe()"
   ]
  },
  {
   "cell_type": "markdown",
   "id": "1398a073-82ac-4dd1-9272-fae241c9ccbe",
   "metadata": {},
   "source": [
    "# Finding correlation between data :"
   ]
  },
  {
   "cell_type": "markdown",
   "id": "98f748bd-47d2-489d-897b-5bda10b225b3",
   "metadata": {},
   "source": [
    "### 1. Positive Correlation\n"
   ]
  },
  {
   "cell_type": "markdown",
   "id": "9a78d05e-a2a0-4106-8e10-696de0ae7bb6",
   "metadata": {},
   "source": [
    "Variables are directly proportional."
   ]
  },
  {
   "cell_type": "markdown",
   "id": "781614d2-c186-417e-abbf-c373aa712331",
   "metadata": {},
   "source": [
    "### 2. Negative Correlation"
   ]
  },
  {
   "cell_type": "markdown",
   "id": "5dc2f763-41e3-4374-a9a4-76c871d27c8e",
   "metadata": {},
   "source": [
    "Variables are inversely proportional."
   ]
  },
  {
   "cell_type": "code",
   "execution_count": 17,
   "id": "793b81e5-ddee-435d-98d9-f919615e8c30",
   "metadata": {},
   "outputs": [],
   "source": [
    "gold_data = gold_data.drop('Date',axis=1)"
   ]
  },
  {
   "cell_type": "code",
   "execution_count": 18,
   "id": "90df24c5-a7d0-4bfd-80b4-238c36893d20",
   "metadata": {},
   "outputs": [],
   "source": [
    "correlation = gold_data.corr()"
   ]
  },
  {
   "cell_type": "markdown",
   "id": "7828ff99-a9f1-4527-b21c-f076b41e9684",
   "metadata": {},
   "source": [
    "## Constructing a heat map to understand the correlation."
   ]
  },
  {
   "cell_type": "code",
   "execution_count": 20,
   "id": "7e83ea33-2e18-4afc-8d48-482c6ff21bae",
   "metadata": {},
   "outputs": [
    {
     "data": {
      "text/plain": [
       "<Axes: >"
      ]
     },
     "execution_count": 20,
     "metadata": {},
     "output_type": "execute_result"
    },
    {
     "data": {
      "image/png": "[encoded data removed]",
      "text/plain": [
       "<Figure size 800x800 with 2 Axes>"
      ]
     },
     "metadata": {},
     "output_type": "display_data"
    }
   ],
   "source": [
    "plt.figure(figsize = (8,8))\n",
    "sns.heatmap(correlation, cbar = True, square = True, fmt = '.1f', annot= True, annot_kws = {'size':8},cmap='Blues')"
   ]
  },
  {
   "cell_type": "markdown",
   "id": "c67b6cdf-dbb0-4d1e-acd4-6a88611aa91e",
   "metadata": {},
   "source": [
    "### Correlation Values of GLD"
   ]
  },
  {
   "cell_type": "code",
   "execution_count": 21,
   "id": "69e0a25a-9879-415a-9f80-cff5fd9c0bf6",
   "metadata": {},
   "outputs": [
    {
     "name": "stdout",
     "output_type": "stream",
     "text": [
      "SPX        0.049345\n",
      "GLD        1.000000\n",
      "USO       -0.186360\n",
      "SLV        0.866632\n",
      "EUR/USD   -0.024375\n",
      "Name: GLD, dtype: float64\n"
     ]
    }
   ],
   "source": [
    "print(correlation['GLD'])"
   ]
  },
  {
   "cell_type": "markdown",
   "id": "86cfeea8-0a50-495e-adca-b7b0b76c3c91",
   "metadata": {},
   "source": [
    "### Checking the distribution of the Gold Price"
   ]
  },
  {
   "cell_type": "code",
   "execution_count": 28,
   "id": "76f49ec5-7479-4c2a-a287-75c3a750bcdf",
   "metadata": {},
   "outputs": [
    {
     "data": {
      "text/plain": [
       "<Axes: xlabel='GLD', ylabel='Count'>"
      ]
     },
     "execution_count": 28,
     "metadata": {},
     "output_type": "execute_result"
    },
    {
     "data": {
      "image/png": "[encoded data removed]",
      "text/plain": [
       "<Figure size 640x480 with 1 Axes>"
      ]
     },
     "metadata": {},
     "output_type": "display_data"
    }
   ],
   "source": [
    "sns.histplot(gold_data['GLD'], color ='green')"
   ]
  },
  {
   "cell_type": "markdown",
   "id": "df61ce06-463a-48a0-82be-1de0b28ba0a3",
   "metadata": {},
   "source": [
    "### Splitting the Features and the Target"
   ]
  },
  {
   "cell_type": "code",
   "execution_count": 30,
   "id": "9ce0298f-e852-424f-b5af-7ff152bf7269",
   "metadata": {},
   "outputs": [],
   "source": [
    "X = gold_data.drop(['GLD'], axis = 1)\n",
    "Y = gold_data['GLD']"
   ]
  },
  {
   "cell_type": "code",
   "execution_count": 31,
   "id": "962c75b8-88be-4ef3-ad82-08ce762095d1",
   "metadata": {},
   "outputs": [
    {
     "name": "stdout",
     "output_type": "stream",
     "text": [
      "              SPX        USO      SLV   EUR/USD\n",
      "0     1447.160034  78.470001  15.1800  1.471692\n",
      "1     1447.160034  78.370003  15.2850  1.474491\n",
      "2     1411.630005  77.309998  15.1670  1.475492\n",
      "3     1416.180054  75.500000  15.0530  1.468299\n",
      "4     1390.189941  76.059998  15.5900  1.557099\n",
      "...           ...        ...      ...       ...\n",
      "2285  2671.919922  14.060000  15.5100  1.186789\n",
      "2286  2697.790039  14.370000  15.5300  1.184722\n",
      "2287  2723.070068  14.410000  15.7400  1.191753\n",
      "2288  2730.129883  14.380000  15.5600  1.193118\n",
      "2289  2725.780029  14.405800  15.4542  1.182033\n",
      "\n",
      "[2290 rows x 4 columns]\n"
     ]
    }
   ],
   "source": [
    "print(X)"
   ]
  },
  {
   "cell_type": "code",
   "execution_count": 32,
   "id": "8660e54f-c6db-4c52-ba96-2c14cdaa5cec",
   "metadata": {},
   "outputs": [
    {
     "name": "stdout",
     "output_type": "stream",
     "text": [
      "0        84.860001\n",
      "1        85.570000\n",
      "2        85.129997\n",
      "3        84.769997\n",
      "4        86.779999\n",
      "           ...    \n",
      "2285    124.589996\n",
      "2286    124.330002\n",
      "2287    125.180000\n",
      "2288    124.489998\n",
      "2289    122.543800\n",
      "Name: GLD, Length: 2290, dtype: float64\n"
     ]
    }
   ],
   "source": [
    "print(Y)"
   ]
  },
  {
   "cell_type": "markdown",
   "id": "607ca060-d4b6-4ae1-b148-44c1bccea5dd",
   "metadata": {},
   "source": [
    "## Splitting into Training Data and Test Data"
   ]
  },
  {
   "cell_type": "code",
   "execution_count": 33,
   "id": "0e7b552a-d892-40c5-80e6-73d7a99ebbad",
   "metadata": {},
   "outputs": [],
   "source": [
    "X_train, X_test, Y_train, Y_test = train_test_split(X,Y, test_size =0.2, random_state = 2)"
   ]
  },
  {
   "cell_type": "markdown",
   "id": "73608137-ee0a-4e41-a5bf-c433b9f15c53",
   "metadata": {},
   "source": [
    "## MODEL TRAINING : Random Forest Regressor"
   ]
  },
  {
   "cell_type": "code",
   "execution_count": 36,
   "id": "c28ae881-b625-46b3-a4c7-6afae7c3fa03",
   "metadata": {},
   "outputs": [],
   "source": [
    "regressor = RandomForestRegressor(n_estimators=100)"
   ]
  },
  {
   "cell_type": "markdown",
   "id": "675aca46-8f52-4a78-82c4-859c65ab3e06",
   "metadata": {},
   "source": [
    "### Training the model"
   ]
  },
  {
   "cell_type": "code",
   "execution_count": 37,
   "id": "91799269-a2d9-4f98-b380-06de1a749894",
   "metadata": {},
   "outputs": [
    {
     "data": {
      "text/html": [
       "<style>#sk-container-id-1 {color: black;}#sk-container-id-1 pre{padding: 0;}#sk-container-id-1 div.sk-toggleable {background-color: white;}#sk-container-id-1 label.sk-toggleable__label {cursor: pointer;display: block;width: 100%;margin-bottom: 0;padding: 0.3em;box-sizing: border-box;text-align: center;}#sk-container-id-1 label.sk-toggleable__label-arrow:before {content: \"▸\";float: left;margin-right: 0.25em;color: #696969;}#sk-container-id-1 label.sk-toggleable__label-arrow:hover:before {color: black;}#sk-container-id-1 div.sk-estimator:hover label.sk-toggleable__label-arrow:before {color: black;}#sk-container-id-1 div.sk-toggleable__content {max-height: 0;max-width: 0;overflow: hidden;text-align: left;background-color: #f0f8ff;}#sk-container-id-1 div.sk-toggleable__content pre {margin: 0.2em;color: black;border-radius: 0.25em;background-color: #f0f8ff;}#sk-container-id-1 input.sk-toggleable__control:checked~div.sk-toggleable__content {max-height: 200px;max-width: 100%;overflow: auto;}#sk-container-id-1 input.sk-toggleable__control:checked~label.sk-toggleable__label-arrow:before {content: \"▾\";}#sk-container-id-1 div.sk-estimator input.sk-toggleable__control:checked~label.sk-toggleable__label {background-color: #d4ebff;}#sk-container-id-1 div.sk-label input.sk-toggleable__control:checked~label.sk-toggleable__label {background-color: #d4ebff;}#sk-container-id-1 input.sk-hidden--visually {border: 0;clip: rect(1px 1px 1px 1px);clip: rect(1px, 1px, 1px, 1px);height: 1px;margin: -1px;overflow: hidden;padding: 0;position: absolute;width: 1px;}#sk-container-id-1 div.sk-estimator {font-family: monospace;background-color: #f0f8ff;border: 1px dotted black;border-radius: 0.25em;box-sizing: border-box;margin-bottom: 0.5em;}#sk-container-id-1 div.sk-estimator:hover {background-color: #d4ebff;}#sk-container-id-1 div.sk-parallel-item::after {content: \"\";width: 100%;border-bottom: 1px solid gray;flex-grow: 1;}#sk-container-id-1 div.sk-label:hover label.sk-toggleable__label {background-color: #d4ebff;}#sk-container-id-1 div.sk-serial::before {content: \"\";position: absolute;border-left: 1px solid gray;box-sizing: border-box;top: 0;bottom: 0;left: 50%;z-index: 0;}#sk-container-id-1 div.sk-serial {display: flex;flex-direction: column;align-items: center;background-color: white;padding-right: 0.2em;padding-left: 0.2em;position: relative;}#sk-container-id-1 div.sk-item {position: relative;z-index: 1;}#sk-container-id-1 div.sk-parallel {display: flex;align-items: stretch;justify-content: center;background-color: white;position: relative;}#sk-container-id-1 div.sk-item::before, #sk-container-id-1 div.sk-parallel-item::before {content: \"\";position: absolute;border-left: 1px solid gray;box-sizing: border-box;top: 0;bottom: 0;left: 50%;z-index: -1;}#sk-container-id-1 div.sk-parallel-item {display: flex;flex-direction: column;z-index: 1;position: relative;background-color: white;}#sk-container-id-1 div.sk-parallel-item:first-child::after {align-self: flex-end;width: 50%;}#sk-container-id-1 div.sk-parallel-item:last-child::after {align-self: flex-start;width: 50%;}#sk-container-id-1 div.sk-parallel-item:only-child::after {width: 0;}#sk-container-id-1 div.sk-dashed-wrapped {border: 1px dashed gray;margin: 0 0.4em 0.5em 0.4em;box-sizing: border-box;padding-bottom: 0.4em;background-color: white;}#sk-container-id-1 div.sk-label label {font-family: monospace;font-weight: bold;display: inline-block;line-height: 1.2em;}#sk-container-id-1 div.sk-label-container {text-align: center;}#sk-container-id-1 div.sk-container {/* jupyter's `normalize.less` sets `[hidden] { display: none; }` but bootstrap.min.css set `[hidden] { display: none !important; }` so we also need the `!important` here to be able to override the default hidden behavior on the sphinx rendered scikit-learn.org. See: https://github.com/scikit-learn/scikit-learn/issues/21755 */display: inline-block !important;position: relative;}#sk-container-id-1 div.sk-text-repr-fallback {display: none;}</style><div id=\"sk-container-id-1\" class=\"sk-top-container\"><div class=\"sk-text-repr-fallback\"><pre>RandomForestRegressor()</pre><b>In a Jupyter environment, please rerun this cell to show the HTML representation or trust the notebook. <br />On GitHub, the HTML representation is unable to render, please try loading this page with nbviewer.org.</b></div><div class=\"sk-container\" hidden><div class=\"sk-item\"><div class=\"sk-estimator sk-toggleable\"><input class=\"sk-toggleable__control sk-hidden--visually\" id=\"sk-estimator-id-1\" type=\"checkbox\" checked><label for=\"sk-estimator-id-1\" class=\"sk-toggleable__label sk-toggleable__label-arrow\">RandomForestRegressor</label><div class=\"sk-toggleable__content\"><pre>RandomForestRegressor()</pre></div></div></div></div></div>"
      ],
      "text/plain": [
       "RandomForestRegressor()"
      ]
     },
     "execution_count": 37,
     "metadata": {},
     "output_type": "execute_result"
    }
   ],
   "source": [
    "regressor.fit(X_train, Y_train)"
   ]
  },
  {
   "cell_type": "markdown",
   "id": "53feb1e4-f7b2-4d70-b3a9-500d4e13af41",
   "metadata": {},
   "source": [
    "## MODEL EVALUATION"
   ]
  },
  {
   "cell_type": "markdown",
   "id": "adfc8082-e73b-4953-8f55-2d3d4166223e",
   "metadata": {},
   "source": [
    "### Prediction on Test Data"
   ]
  },
  {
   "cell_type": "code",
   "execution_count": 41,
   "id": "497dd06d-f698-4738-9ff6-f6f888202a35",
   "metadata": {},
   "outputs": [],
   "source": [
    "test_data_prediction = regressor.predict(X_test)"
   ]
  },
  {
   "cell_type": "code",
   "execution_count": 42,
   "id": "0dd1cfc5-c5f8-438b-be5b-0ef262fdf759",
   "metadata": {
    "scrolled": true
   },
   "outputs": [
    {
     "name": "stdout",
     "output_type": "stream",
     "text": [
      "[168.76609941  82.3999996  115.9528003  127.62120073 120.61210137\n",
      " 154.81099698 150.28039865 126.06420073 117.57399878 126.11330058\n",
      " 116.56270111 171.38810055 140.85169792 167.75699826 115.28670004\n",
      " 117.70780092 139.59010238 170.24350104 160.03290291 158.5609998\n",
      " 155.13239952 125.28569996 176.1270994  157.48020358 125.30400028\n",
      "  93.84619986  77.59480013 120.63880028 119.14409982 167.36629992\n",
      "  88.07070031 125.28370013  91.16110053 117.62880035 121.03129911\n",
      " 135.71890036 115.26130139 114.91490106 146.59479962 107.13530108\n",
      " 104.55900264  87.18949816 126.52670031 117.76769942 153.29279923\n",
      " 119.62500017 108.30780001 108.24409877  93.15240051 127.22389759\n",
      "  74.9006005  113.50979883 121.56569971 111.40879941 118.82269904\n",
      " 121.00319932 159.16629971 168.15910152 147.10069669  85.8622986\n",
      "  94.39020027  86.86429862  90.42060014 118.73840055 126.3994007\n",
      " 127.50750041 170.16949979 122.31069915 117.45709887  98.51250063\n",
      " 168.44510137 143.16859852 132.04480259 121.23320231 121.18889923\n",
      " 119.74190062 114.37450159 118.26350021 107.12350106 128.02520007\n",
      " 113.57749937 107.79559973 116.82490104 119.59939839  88.76130078\n",
      "  88.26419851 146.8344024  127.09810047 113.05130027 110.1059984\n",
      " 108.10909901  77.25459889 169.53630171 114.06929918 121.54409926\n",
      " 127.69810206 154.93169803  91.71639964 135.16010111 159.55340372\n",
      " 125.22780035 125.32510061 130.66050189 114.55740128 119.66759969\n",
      "  92.02350005 110.0443987  168.23509928 158.19449875 114.12269947\n",
      " 106.62700134  79.23869968 113.43480021 125.82040062 107.41899942\n",
      " 119.5303009  155.99310348 159.84339909 120.23640005 135.28970241\n",
      " 101.33920045 117.55029817 119.34690021 112.8834007  102.75999904\n",
      " 160.39379843  98.86120047 147.55979877 125.67380118 169.83029938\n",
      " 125.83729864 127.40329746 127.41550213 113.76699933 112.8843008\n",
      " 123.5836992  102.18359915  89.31029957 124.62639949 101.34979942\n",
      " 107.16519891 113.67560049 117.43120089  99.28619992 121.84040034\n",
      " 163.75269859  87.26169856 106.86399968 117.15910072 127.83980069\n",
      " 124.10380081  80.58079935 120.54990029 158.43369802  87.88629999\n",
      " 110.20349942 118.96909927 172.09089836 102.99799907 105.51700052\n",
      " 122.29370037 158.74699736  87.78059849  93.32620035 112.63620015\n",
      " 177.21609864 114.34759994 119.37740009  94.53800079 125.67990032\n",
      " 166.10440122 114.67970073 116.72030142  88.32419856 148.84020093\n",
      " 120.28429933  89.48989997 112.44500024 117.33169992 118.88350124\n",
      "  88.28839943  94.13910014 117.11639964 118.61540153 120.19530044\n",
      " 126.7203983  121.84829991 150.41039993 165.67200074 118.53329953\n",
      " 120.37400146 151.1109007  118.55319915 172.1676984  105.61679967\n",
      " 104.89270087 149.29520094 113.47940081 124.84640112 147.39970001\n",
      " 119.61480107 115.30810036 112.78510031 113.42580187 140.60620109\n",
      " 117.9021978  102.90800031 115.89190108 103.94980177  98.69530064\n",
      " 117.46090101  90.84799967  91.53960039 153.80549823 102.70769975\n",
      " 154.46280067 114.35430148 139.49890046  90.04609811 115.45979941\n",
      " 115.11329948 122.76250041 121.73770031 165.51240121  92.89279965\n",
      " 135.27190155 121.39319895 121.02950051 104.76250028 143.68290244\n",
      " 121.5102991  116.60410035 113.38600059 126.95219775 122.48549956\n",
      " 125.72389946 121.25780024  86.91689918 132.36870126 144.3510022\n",
      "  92.74699951 155.61569953 159.58940286 126.25899909 165.04999891\n",
      " 108.8149996  110.13870095 103.62889837  94.40410058 127.63150309\n",
      " 107.07420062 159.54549949 121.82030026 132.06670027 130.76640171\n",
      " 160.72999947  90.25069884 175.64550193 127.63020064 126.80179863\n",
      "  86.29019888 124.40939981 150.01069726  89.62580035 107.22429949\n",
      " 108.96309976  84.36769896 135.89130074 155.10100234 140.09820366\n",
      "  74.51710017 152.25410111 126.3897993  126.69889999 127.39629987\n",
      " 108.57889968 156.60989959 114.5074011  117.07820135 125.30599938\n",
      " 153.70640177 121.42719978 156.30759875  92.92790073 125.45280119\n",
      " 126.19620082  87.85890021  92.25359906 126.3208996  128.29170391\n",
      " 113.21150097 117.74609769 121.10209989 127.03479789 119.55990115\n",
      " 136.08750061  94.03929972 119.75990036 113.25900124  94.23779969\n",
      " 108.84539995  86.66339902 108.8673992   89.64109991  92.47279991\n",
      " 131.64480287 162.52719965  89.22320011 119.64010092 133.56430178\n",
      " 123.86420042 128.33080191 101.97719861  88.93969875 131.52170107\n",
      " 120.07750038 108.87450017 166.83440079 115.10460053  86.64359903\n",
      " 118.91080058  90.86309977 161.93880024 116.46230021 121.71530006\n",
      " 160.26199783 119.94069961 112.65219965 108.42079875 126.72800048\n",
      "  75.99680012 102.99289974 127.50160316 121.8689993   92.62720003\n",
      " 131.99830162 118.1570011  115.76999992 154.43220242 159.00500124\n",
      " 110.00749946 156.69259806 119.20700078 160.61760057 118.56979989\n",
      " 158.49789941 115.09129938 116.83040039 147.2507988  114.62170061\n",
      " 125.37269875 166.09189895 117.5153001  124.92849906 153.32310323\n",
      " 153.39060223 132.14040029 114.64330027 121.32700189 124.82150069\n",
      "  89.68200067 123.19830016 155.31370225 111.79750045 106.79919998\n",
      " 162.14780189 118.50269976 165.76180037 134.03250053 115.09439945\n",
      " 152.93909843 168.45729981 114.77780006 113.9463012  158.21129856\n",
      "  85.2473991  126.99260127 127.93010058 128.89419939 124.21570076\n",
      " 123.99060084  90.54120043 152.91850016  97.26489954 138.16509999\n",
      "  88.96869895 107.75270001 115.09040043 112.67910083 124.17619909\n",
      "  91.57869879 125.3338011  162.50179836 119.98519874 165.18810074\n",
      " 126.77069812 112.43760008 127.64089919  95.11719914  91.18329954\n",
      " 103.77999925 120.95959983  83.11399947 126.32829993 160.61990464\n",
      " 117.19590065 118.36969989 119.77599991 122.76299966 120.02670132\n",
      " 121.41370016 117.86020043 107.07499999 148.28610022 126.0919988\n",
      " 115.63370073  74.05909964 127.78820146 153.44700018 122.09969985\n",
      " 125.63270086  88.77999982 103.16589856 124.52509996 120.27270046\n",
      "  73.4406008  151.97690027 121.37360008 104.5725999   86.63529806\n",
      " 114.89779911 172.20609867 120.00980003 160.96259783 113.08329953\n",
      " 121.19940006 118.43130129  95.9167998  118.72849995 125.91390044\n",
      " 118.55539942  96.24910073 154.11880162 122.36169988 147.34250028\n",
      " 159.22240242 114.08440018 122.4858993  149.94669849 127.36240004\n",
      " 165.7568004  134.63880023 119.98499963 167.40919838 108.33509942\n",
      " 121.48719857 137.87210086 105.9940989 ]\n"
     ]
    }
   ],
   "source": [
    "print(test_data_prediction)"
   ]
  },
  {
   "cell_type": "markdown",
   "id": "5d2d3bcb-f30e-494c-86d1-edec8c9d1780",
   "metadata": {},
   "source": [
    "## Comparing the predicted values with the actual values"
   ]
  },
  {
   "cell_type": "markdown",
   "id": "62664796-d6c2-4897-a260-46df0905c123",
   "metadata": {},
   "source": [
    "### R squared values : metric"
   ]
  },
  {
   "cell_type": "code",
   "execution_count": 44,
   "id": "6c940ee8-cb48-429c-96ed-8943eedd4203",
   "metadata": {},
   "outputs": [
    {
     "name": "stdout",
     "output_type": "stream",
     "text": [
      "R squared error : 0.9893299003014459\n"
     ]
    }
   ],
   "source": [
    "error_score = metrics.r2_score(Y_test, test_data_prediction)\n",
    "print(f\"R squared error : {error_score}\")"
   ]
  },
  {
   "cell_type": "markdown",
   "id": "13906e3f-67bb-4c40-919e-558e640bbc2b",
   "metadata": {},
   "source": [
    "### Compare the actual values and predicted values in a plot"
   ]
  },
  {
   "cell_type": "code",
   "execution_count": 45,
   "id": "c6769604-ef64-4abb-ac35-c72d61aeb323",
   "metadata": {},
   "outputs": [],
   "source": [
    "Y_test = list(Y_test)"
   ]
  },
  {
   "cell_type": "code",
   "execution_count": 48,
   "id": "67ce6559-9ff7-4c96-93bd-6ac7672f4840",
   "metadata": {},
   "outputs": [
    {
     "data": {
      "image/png": "[encoded data removed]",
      "text/plain": [
       "<Figure size 640x480 with 1 Axes>"
      ]
     },
     "metadata": {},
     "output_type": "display_data"
    }
   ],
   "source": [
    "plt.plot(Y_test, color = 'blue', label = 'Actual Value' )\n",
    "plt.plot(test_data_prediction, color = 'green', label = 'Predicted Value')\n",
    "plt.title('Actual Price vs Predicted Price')\n",
    "plt.xlabel('Number of Values')\n",
    "plt.ylabel('The GLD Price')\n",
    "plt.legend()\n",
    "plt.show()"
   ]
  },
  {
   "cell_type": "code",
   "execution_count": null,
   "id": "98aae446-f65f-4aa4-9188-c4e4ceb39f60",
   "metadata": {},
   "outputs": [],
   "source": []
  }
 ],
 "metadata": {
  "kernelspec": {
   "display_name": "Python 3 (ipykernel)",
   "language": "python",
   "name": "python3"
  },
  "language_info": {
   "codemirror_mode": {
    "name": "ipython",
    "version": 3
   },
   "file_extension": ".py",
   "mimetype": "text/x-python",
   "name": "python",
   "nbconvert_exporter": "python",
   "pygments_lexer": "ipython3",
   "version": "3.12.1"
  }
 },
 "nbformat": 4,
 "nbformat_minor": 5
}
